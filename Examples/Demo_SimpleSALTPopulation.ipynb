{
 "cells": [
  {
   "cell_type": "code",
   "execution_count": 1,
   "metadata": {},
   "outputs": [
    {
     "name": "stderr",
     "output_type": "stream",
     "text": [
      "UsageError: Line magic function `%autoreload` not found.\n"
     ]
    }
   ],
   "source": [
    "%autoreload 2"
   ]
  },
  {
   "cell_type": "code",
   "execution_count": 2,
   "metadata": {},
   "outputs": [],
   "source": [
    "import numpy as np\n",
    "%matplotlib inline\n",
    "import matplotlib.pyplot as plt\n",
    "import seaborn as sns\n",
    "sns.set_style('whitegrid')"
   ]
  },
  {
   "cell_type": "code",
   "execution_count": 3,
   "metadata": {},
   "outputs": [],
   "source": [
    "import sncosmo\n",
    "import tdaspop\n",
    "import snpop"
   ]
  },
  {
   "cell_type": "code",
   "execution_count": 4,
   "metadata": {},
   "outputs": [],
   "source": [
    "from snpop import SimpleSALTPopulation"
   ]
  },
  {
   "cell_type": "code",
   "execution_count": 5,
   "metadata": {},
   "outputs": [],
   "source": [
    "from collections import OrderedDict"
   ]
  },
  {
   "cell_type": "code",
   "execution_count": 6,
   "metadata": {},
   "outputs": [
    {
     "name": "stdout",
     "output_type": "stream",
     "text": [
      "1.7.1\n",
      "0.1.6\n",
      "0.1.6dev1\n"
     ]
    }
   ],
   "source": [
    "print(sncosmo.__version__)\n",
    "print(tdaspop.__version__)\n",
    "print(snpop.__version__)"
   ]
  },
  {
   "cell_type": "code",
   "execution_count": 7,
   "metadata": {},
   "outputs": [
    {
     "data": {
      "text/plain": [
       "'/Users/rbiswas/src/SNPop/snpop/__init__.py'"
      ]
     },
     "execution_count": 7,
     "metadata": {},
     "output_type": "execute_result"
    }
   ],
   "source": [
    "snpop.__file__"
   ]
  },
  {
   "cell_type": "markdown",
   "metadata": {},
   "source": [
    "# Simple SALT Distributions"
   ]
  },
  {
   "cell_type": "markdown",
   "metadata": {},
   "source": [
    "The SALT model used for SNIa has the following parameters for each SNIa :\n",
    "```x0, x1, c, z, t0 ```. During training, `SALT2` is designed to scale variables, such that at the\n",
    "end of its training `x1` has a standard deviation of `1.0`, and `c` has a standard deviation of `0.1`.\n",
    "While this does not imply that (a) the population of SNe have the same standard deviations for these\n",
    "parameters and (b) they are uncorrelated, a population drawn with un-correlated `c` and `x1` with these\n",
    "standard deviations is consistent with a homogeneous selection for the SALT2 training sample, and is often\n",
    "used in simulations. A population with this character is described by `SimpleSALTPopulation`"
   ]
  },
  {
   "cell_type": "markdown",
   "metadata": {},
   "source": [
    "There are two ways to use it:\n",
    "1. Use it with a supplied sample of SN redshifts.\n",
    "2. Supply it with the area of the sky, the duration of the survey, and the redshift bounds, and it will use a powerlaw rate for SN to obtain a redshift sample, and run through with the previous case. \n",
    "\n",
    "To start with we describe the first case"
   ]
  },
  {
   "cell_type": "markdown",
   "metadata": {},
   "source": [
    "### `SimpleSALTPopulation`"
   ]
  },
  {
   "cell_type": "markdown",
   "metadata": {},
   "source": [
    "obtain a set of samples for the redshift"
   ]
  },
  {
   "cell_type": "code",
   "execution_count": 8,
   "metadata": {},
   "outputs": [
    {
     "name": "stdout",
     "output_type": "stream",
     "text": [
      "[0.73149001 0.61689169 0.13057379 0.47196345 0.89053096 0.8474887\n",
      " 0.93322106 0.83147892 0.09763732 0.27832286]\n"
     ]
    }
   ],
   "source": [
    "zSamples = np.random.uniform(0, 1.0, size=10)\n",
    "print(zSamples)"
   ]
  },
  {
   "cell_type": "markdown",
   "metadata": {},
   "source": [
    "Instantiate the object"
   ]
  },
  {
   "cell_type": "code",
   "execution_count": 9,
   "metadata": {},
   "outputs": [],
   "source": [
    "sp = SimpleSALTPopulation(zSamples, rng=np.random.RandomState(1))"
   ]
  },
  {
   "cell_type": "code",
   "execution_count": 10,
   "metadata": {},
   "outputs": [
    {
     "data": {
      "text/plain": [
       "array([0, 1, 2, 3, 4, 5, 6, 7, 8, 9])"
      ]
     },
     "execution_count": 10,
     "metadata": {},
     "output_type": "execute_result"
    }
   ],
   "source": [
    "sp.idxvalues"
   ]
  },
  {
   "cell_type": "code",
   "execution_count": 11,
   "metadata": {},
   "outputs": [
    {
     "data": {
      "text/plain": [
       "array([0.73149001, 0.61689169, 0.13057379, 0.47196345, 0.89053096,\n",
       "       0.8474887 , 0.93322106, 0.83147892, 0.09763732, 0.27832286])"
      ]
     },
     "execution_count": 11,
     "metadata": {},
     "output_type": "execute_result"
    }
   ],
   "source": [
    "sp.zSamples"
   ]
  },
  {
   "cell_type": "code",
   "execution_count": 12,
   "metadata": {},
   "outputs": [
    {
     "data": {
      "text/plain": [
       "FlatLambdaCDM(name=\"Planck15\", H0=67.7 km / (Mpc s), Om0=0.307, Tcmb0=2.725 K, Neff=3.05, m_nu=[0.   0.   0.06] eV, Ob0=0.0486)"
      ]
     },
     "execution_count": 12,
     "metadata": {},
     "output_type": "execute_result"
    }
   ],
   "source": [
    "sp.cosmo"
   ]
  },
  {
   "cell_type": "code",
   "execution_count": 13,
   "metadata": {},
   "outputs": [
    {
     "data": {
      "text/html": [
       "<div>\n",
       "<style scoped>\n",
       "    .dataframe tbody tr th:only-of-type {\n",
       "        vertical-align: middle;\n",
       "    }\n",
       "\n",
       "    .dataframe tbody tr th {\n",
       "        vertical-align: top;\n",
       "    }\n",
       "\n",
       "    .dataframe thead th {\n",
       "        text-align: right;\n",
       "    }\n",
       "</style>\n",
       "<table border=\"1\" class=\"dataframe\">\n",
       "  <thead>\n",
       "    <tr style=\"text-align: right;\">\n",
       "      <th></th>\n",
       "      <th>x0</th>\n",
       "      <th>mB</th>\n",
       "      <th>x1</th>\n",
       "      <th>c</th>\n",
       "      <th>MnoDisp</th>\n",
       "      <th>Mabs</th>\n",
       "      <th>t0</th>\n",
       "      <th>z</th>\n",
       "      <th>model</th>\n",
       "    </tr>\n",
       "    <tr>\n",
       "      <th>idx</th>\n",
       "      <th></th>\n",
       "      <th></th>\n",
       "      <th></th>\n",
       "      <th></th>\n",
       "      <th></th>\n",
       "      <th></th>\n",
       "      <th></th>\n",
       "      <th></th>\n",
       "      <th></th>\n",
       "    </tr>\n",
       "  </thead>\n",
       "  <tbody>\n",
       "    <tr>\n",
       "      <th>0</th>\n",
       "      <td>0.000006</td>\n",
       "      <td>23.478571</td>\n",
       "      <td>-0.172428</td>\n",
       "      <td>0.174481</td>\n",
       "      <td>-19.828904</td>\n",
       "      <td>-19.847337</td>\n",
       "      <td>61102.130317</td>\n",
       "      <td>0.731490</td>\n",
       "      <td>SALT2</td>\n",
       "    </tr>\n",
       "    <tr>\n",
       "      <th>1</th>\n",
       "      <td>0.000005</td>\n",
       "      <td>23.770619</td>\n",
       "      <td>-0.877858</td>\n",
       "      <td>-0.076121</td>\n",
       "      <td>-18.964417</td>\n",
       "      <td>-19.104782</td>\n",
       "      <td>62209.184401</td>\n",
       "      <td>0.616892</td>\n",
       "      <td>SALT2</td>\n",
       "    </tr>\n",
       "    <tr>\n",
       "      <th>2</th>\n",
       "      <td>0.000238</td>\n",
       "      <td>19.562418</td>\n",
       "      <td>0.042214</td>\n",
       "      <td>0.031904</td>\n",
       "      <td>-19.404822</td>\n",
       "      <td>-19.445005</td>\n",
       "      <td>59580.417468</td>\n",
       "      <td>0.130574</td>\n",
       "      <td>SALT2</td>\n",
       "    </tr>\n",
       "    <tr>\n",
       "      <th>3</th>\n",
       "      <td>0.000010</td>\n",
       "      <td>22.969719</td>\n",
       "      <td>0.582815</td>\n",
       "      <td>-0.024937</td>\n",
       "      <td>-19.285807</td>\n",
       "      <td>-19.206254</td>\n",
       "      <td>60683.513890</td>\n",
       "      <td>0.471963</td>\n",
       "      <td>SALT2</td>\n",
       "    </tr>\n",
       "    <tr>\n",
       "      <th>4</th>\n",
       "      <td>0.000004</td>\n",
       "      <td>24.108104</td>\n",
       "      <td>-1.100619</td>\n",
       "      <td>0.146211</td>\n",
       "      <td>-19.638034</td>\n",
       "      <td>-19.741783</td>\n",
       "      <td>60115.659001</td>\n",
       "      <td>0.890531</td>\n",
       "      <td>SALT2</td>\n",
       "    </tr>\n",
       "    <tr>\n",
       "      <th>5</th>\n",
       "      <td>0.000002</td>\n",
       "      <td>24.879094</td>\n",
       "      <td>1.144724</td>\n",
       "      <td>-0.206014</td>\n",
       "      <td>-18.779035</td>\n",
       "      <td>-18.838548</td>\n",
       "      <td>59917.035871</td>\n",
       "      <td>0.847489</td>\n",
       "      <td>SALT2</td>\n",
       "    </tr>\n",
       "    <tr>\n",
       "      <th>6</th>\n",
       "      <td>0.000002</td>\n",
       "      <td>24.574012</td>\n",
       "      <td>0.901591</td>\n",
       "      <td>-0.032242</td>\n",
       "      <td>-19.297936</td>\n",
       "      <td>-19.401012</td>\n",
       "      <td>60259.849772</td>\n",
       "      <td>0.933221</td>\n",
       "      <td>SALT2</td>\n",
       "    </tr>\n",
       "    <tr>\n",
       "      <th>7</th>\n",
       "      <td>0.000003</td>\n",
       "      <td>24.305317</td>\n",
       "      <td>0.502494</td>\n",
       "      <td>-0.038405</td>\n",
       "      <td>-19.234681</td>\n",
       "      <td>-19.361462</td>\n",
       "      <td>60841.296654</td>\n",
       "      <td>0.831479</td>\n",
       "      <td>SALT2</td>\n",
       "    </tr>\n",
       "    <tr>\n",
       "      <th>8</th>\n",
       "      <td>0.000647</td>\n",
       "      <td>18.473891</td>\n",
       "      <td>0.900856</td>\n",
       "      <td>0.113377</td>\n",
       "      <td>-19.755098</td>\n",
       "      <td>-19.855785</td>\n",
       "      <td>61028.201281</td>\n",
       "      <td>0.097637</td>\n",
       "      <td>SALT2</td>\n",
       "    </tr>\n",
       "    <tr>\n",
       "      <th>9</th>\n",
       "      <td>0.000026</td>\n",
       "      <td>21.954147</td>\n",
       "      <td>-0.683728</td>\n",
       "      <td>-0.109989</td>\n",
       "      <td>-18.879424</td>\n",
       "      <td>-18.881324</td>\n",
       "      <td>61546.681079</td>\n",
       "      <td>0.278323</td>\n",
       "      <td>SALT2</td>\n",
       "    </tr>\n",
       "  </tbody>\n",
       "</table>\n",
       "</div>"
      ],
      "text/plain": [
       "           x0         mB        x1         c    MnoDisp       Mabs  \\\n",
       "idx                                                                  \n",
       "0    0.000006  23.478571 -0.172428  0.174481 -19.828904 -19.847337   \n",
       "1    0.000005  23.770619 -0.877858 -0.076121 -18.964417 -19.104782   \n",
       "2    0.000238  19.562418  0.042214  0.031904 -19.404822 -19.445005   \n",
       "3    0.000010  22.969719  0.582815 -0.024937 -19.285807 -19.206254   \n",
       "4    0.000004  24.108104 -1.100619  0.146211 -19.638034 -19.741783   \n",
       "5    0.000002  24.879094  1.144724 -0.206014 -18.779035 -18.838548   \n",
       "6    0.000002  24.574012  0.901591 -0.032242 -19.297936 -19.401012   \n",
       "7    0.000003  24.305317  0.502494 -0.038405 -19.234681 -19.361462   \n",
       "8    0.000647  18.473891  0.900856  0.113377 -19.755098 -19.855785   \n",
       "9    0.000026  21.954147 -0.683728 -0.109989 -18.879424 -18.881324   \n",
       "\n",
       "               t0         z  model  \n",
       "idx                                 \n",
       "0    61102.130317  0.731490  SALT2  \n",
       "1    62209.184401  0.616892  SALT2  \n",
       "2    59580.417468  0.130574  SALT2  \n",
       "3    60683.513890  0.471963  SALT2  \n",
       "4    60115.659001  0.890531  SALT2  \n",
       "5    59917.035871  0.847489  SALT2  \n",
       "6    60259.849772  0.933221  SALT2  \n",
       "7    60841.296654  0.831479  SALT2  \n",
       "8    61028.201281  0.097637  SALT2  \n",
       "9    61546.681079  0.278323  SALT2  "
      ]
     },
     "execution_count": 13,
     "metadata": {},
     "output_type": "execute_result"
    }
   ],
   "source": [
    "sp.paramsTable"
   ]
  },
  {
   "cell_type": "code",
   "execution_count": 14,
   "metadata": {},
   "outputs": [
    {
     "data": {
      "text/plain": [
       "OrderedDict([('x0', 1.029819542459318e-05),\n",
       "             ('mB', 22.969718522108778),\n",
       "             ('x1', 0.5828152137158222),\n",
       "             ('c', -0.02493703754774101),\n",
       "             ('MnoDisp', -19.285807375608833),\n",
       "             ('Mabs', -19.206254055598105),\n",
       "             ('t0', 60683.51389010622),\n",
       "             ('z', 0.4719634511240829),\n",
       "             ('model', 'SALT2')])"
      ]
     },
     "execution_count": 14,
     "metadata": {},
     "output_type": "execute_result"
    }
   ],
   "source": [
    "sp.modelParams(3)"
   ]
  },
  {
   "cell_type": "markdown",
   "metadata": {},
   "source": [
    "### 2. Generate From the skyArea, redshift bounds and survey Duration\n",
    "\n",
    "This uses the `fromSkyArea` method\n",
    "\n",
    "In general, we will not have a redshift distribution or a redshift sample to use. In this case, we prefer to use \n",
    "the `fromSkyArea` method which instead obtains these samples from using the fieldArea, zmin and zmax. Right now, we also need `numzBins` because of the binned implementation which we will later get rid of."
   ]
  },
  {
   "cell_type": "code",
   "execution_count": 15,
   "metadata": {},
   "outputs": [],
   "source": [
    "spz = SimpleSALTPopulation.fromSkyArea(rng=np.random.RandomState(1), fieldArea=0.5)"
   ]
  },
  {
   "cell_type": "code",
   "execution_count": 16,
   "metadata": {},
   "outputs": [
    {
     "data": {
      "text/plain": [
       "1351"
      ]
     },
     "execution_count": 16,
     "metadata": {},
     "output_type": "execute_result"
    }
   ],
   "source": [
    "spz.zSamples.size"
   ]
  },
  {
   "cell_type": "code",
   "execution_count": 17,
   "metadata": {},
   "outputs": [
    {
     "data": {
      "text/plain": [
       "1351"
      ]
     },
     "execution_count": 17,
     "metadata": {},
     "output_type": "execute_result"
    }
   ],
   "source": [
    "spz.numSources"
   ]
  },
  {
   "cell_type": "code",
   "execution_count": 18,
   "metadata": {},
   "outputs": [
    {
     "data": {
      "text/html": [
       "<div>\n",
       "<style scoped>\n",
       "    .dataframe tbody tr th:only-of-type {\n",
       "        vertical-align: middle;\n",
       "    }\n",
       "\n",
       "    .dataframe tbody tr th {\n",
       "        vertical-align: top;\n",
       "    }\n",
       "\n",
       "    .dataframe thead th {\n",
       "        text-align: right;\n",
       "    }\n",
       "</style>\n",
       "<table border=\"1\" class=\"dataframe\">\n",
       "  <thead>\n",
       "    <tr style=\"text-align: right;\">\n",
       "      <th></th>\n",
       "      <th>x0</th>\n",
       "      <th>mB</th>\n",
       "      <th>x1</th>\n",
       "      <th>c</th>\n",
       "      <th>MnoDisp</th>\n",
       "      <th>Mabs</th>\n",
       "      <th>t0</th>\n",
       "      <th>z</th>\n",
       "      <th>model</th>\n",
       "    </tr>\n",
       "    <tr>\n",
       "      <th>idx</th>\n",
       "      <th></th>\n",
       "      <th></th>\n",
       "      <th></th>\n",
       "      <th></th>\n",
       "      <th></th>\n",
       "      <th></th>\n",
       "      <th></th>\n",
       "      <th></th>\n",
       "      <th></th>\n",
       "    </tr>\n",
       "  </thead>\n",
       "  <tbody>\n",
       "    <tr>\n",
       "      <th>0</th>\n",
       "      <td>0.000212</td>\n",
       "      <td>19.685243</td>\n",
       "      <td>0.068710</td>\n",
       "      <td>0.074434</td>\n",
       "      <td>-19.541281</td>\n",
       "      <td>-19.292908</td>\n",
       "      <td>62394.169557</td>\n",
       "      <td>0.128958</td>\n",
       "      <td>SALT2</td>\n",
       "    </tr>\n",
       "    <tr>\n",
       "      <th>1</th>\n",
       "      <td>0.000071</td>\n",
       "      <td>20.869749</td>\n",
       "      <td>-2.032609</td>\n",
       "      <td>0.112311</td>\n",
       "      <td>-19.429069</td>\n",
       "      <td>-19.389186</td>\n",
       "      <td>60783.533039</td>\n",
       "      <td>0.220232</td>\n",
       "      <td>SALT2</td>\n",
       "    </tr>\n",
       "    <tr>\n",
       "      <th>2</th>\n",
       "      <td>0.000104</td>\n",
       "      <td>20.455686</td>\n",
       "      <td>0.471687</td>\n",
       "      <td>0.089569</td>\n",
       "      <td>-19.633132</td>\n",
       "      <td>-19.599033</td>\n",
       "      <td>62487.438845</td>\n",
       "      <td>0.202496</td>\n",
       "      <td>SALT2</td>\n",
       "    </tr>\n",
       "    <tr>\n",
       "      <th>3</th>\n",
       "      <td>0.000082</td>\n",
       "      <td>20.720169</td>\n",
       "      <td>-1.111806</td>\n",
       "      <td>-0.107869</td>\n",
       "      <td>-18.838994</td>\n",
       "      <td>-18.885327</td>\n",
       "      <td>60764.929876</td>\n",
       "      <td>0.168033</td>\n",
       "      <td>SALT2</td>\n",
       "    </tr>\n",
       "    <tr>\n",
       "      <th>4</th>\n",
       "      <td>0.000041</td>\n",
       "      <td>21.460815</td>\n",
       "      <td>-0.722469</td>\n",
       "      <td>0.039118</td>\n",
       "      <td>-19.343358</td>\n",
       "      <td>-19.382567</td>\n",
       "      <td>60703.770920</td>\n",
       "      <td>0.279210</td>\n",
       "      <td>SALT2</td>\n",
       "    </tr>\n",
       "  </tbody>\n",
       "</table>\n",
       "</div>"
      ],
      "text/plain": [
       "           x0         mB        x1         c    MnoDisp       Mabs  \\\n",
       "idx                                                                  \n",
       "0    0.000212  19.685243  0.068710  0.074434 -19.541281 -19.292908   \n",
       "1    0.000071  20.869749 -2.032609  0.112311 -19.429069 -19.389186   \n",
       "2    0.000104  20.455686  0.471687  0.089569 -19.633132 -19.599033   \n",
       "3    0.000082  20.720169 -1.111806 -0.107869 -18.838994 -18.885327   \n",
       "4    0.000041  21.460815 -0.722469  0.039118 -19.343358 -19.382567   \n",
       "\n",
       "               t0         z  model  \n",
       "idx                                 \n",
       "0    62394.169557  0.128958  SALT2  \n",
       "1    60783.533039  0.220232  SALT2  \n",
       "2    62487.438845  0.202496  SALT2  \n",
       "3    60764.929876  0.168033  SALT2  \n",
       "4    60703.770920  0.279210  SALT2  "
      ]
     },
     "execution_count": 18,
     "metadata": {},
     "output_type": "execute_result"
    }
   ],
   "source": [
    "spz.paramsTable.head()"
   ]
  },
  {
   "cell_type": "markdown",
   "metadata": {},
   "source": [
    "## Characterizations of the Distribution"
   ]
  },
  {
   "cell_type": "markdown",
   "metadata": {},
   "source": [
    "## Form of the internal dispersion"
   ]
  },
  {
   "cell_type": "code",
   "execution_count": 19,
   "metadata": {},
   "outputs": [],
   "source": [
    "import scipy"
   ]
  },
  {
   "cell_type": "code",
   "execution_count": 20,
   "metadata": {},
   "outputs": [
    {
     "name": "stderr",
     "output_type": "stream",
     "text": [
      "/Users/rbiswas/soft/mypython3/lib/python3.7/site-packages/scipy/stats/stats.py:1713: FutureWarning: Using a non-tuple sequence for multidimensional indexing is deprecated; use `arr[tuple(seq)]` instead of `arr[seq]`. In the future this will be interpreted as an array index, `arr[np.array(seq)]`, which will result either in an error or a different result.\n",
      "  return np.add.reduce(sorted[indexer] * weights, axis=axis) / sumval\n"
     ]
    },
    {
     "data": {
      "text/plain": [
       "<matplotlib.axes._subplots.AxesSubplot at 0x1a26379b00>"
      ]
     },
     "execution_count": 20,
     "metadata": {},
     "output_type": "execute_result"
    },
    {
     "data": {
      "image/png": "[encoded data removed]",
      "text/plain": [
       "<Figure size 432x288 with 1 Axes>"
      ]
     },
     "metadata": {
      "needs_background": "light"
     },
     "output_type": "display_data"
    }
   ],
   "source": [
    "fig, ax = plt.subplots()\n",
    "sns.distplot(spz.paramsTable.Mabs - spz.paramsTable.MnoDisp, hist=False, fit=scipy.stats.norm)"
   ]
  },
  {
   "cell_type": "markdown",
   "metadata": {},
   "source": [
    "## Checks on the Hubble Diagram"
   ]
  },
  {
   "cell_type": "code",
   "execution_count": 21,
   "metadata": {},
   "outputs": [],
   "source": [
    "from astropy.cosmology import Planck15"
   ]
  },
  {
   "cell_type": "code",
   "execution_count": 22,
   "metadata": {},
   "outputs": [
    {
     "data": {
      "text/plain": [
       "[<matplotlib.lines.Line2D at 0x1a266d5a58>]"
      ]
     },
     "execution_count": 22,
     "metadata": {},
     "output_type": "execute_result"
    },
    {
     "data": {
      "image/png": "[encoded data removed]",
      "text/plain": [
       "<Figure size 432x288 with 4 Axes>"
      ]
     },
     "metadata": {
      "needs_background": "light"
     },
     "output_type": "display_data"
    }
   ],
   "source": [
    "fig, ax = plt.subplots(1, 4)\n",
    "#ax[0, 0].plot(spz.paramsTable.z, spz.paramsTable.mB, '.')\n",
    "ax[0].plot(spz.paramsTable.z, spz.paramsTable.mB, '.')\n",
    "ax[0].plot(spz.paramsTable.z, spz.paramsTable.Mabs, '.')\n",
    "ax[1].plot(spz.paramsTable.z, Planck15.distmod(spz.paramsTable.z).value, color='k', lw=2)\n",
    "ax[1].plot(spz.paramsTable.z, spz.paramsTable.mB - spz.paramsTable.Mabs, color='r')\n",
    "ax[2].plot(spz.paramsTable.z, spz.paramsTable.mB - spz.paramsTable.Mabs - Planck15.distmod(spz.paramsTable.z).value, 'r.')\n",
    "ax[3].plot(spz.paramsTable.z, spz.paramsTable.mB - spz.paramsTable.MnoDisp - Planck15.distmod(spz.paramsTable.z).value, 'k.')"
   ]
  },
  {
   "cell_type": "markdown",
   "metadata": {},
   "source": [
    "## Distribution of x1 and c"
   ]
  },
  {
   "cell_type": "code",
   "execution_count": 23,
   "metadata": {},
   "outputs": [
    {
     "data": {
      "image/png": "[encoded data removed]",
      "text/plain": [
       "<Figure size 432x432 with 3 Axes>"
      ]
     },
     "metadata": {
      "needs_background": "light"
     },
     "output_type": "display_data"
    }
   ],
   "source": [
    "#fig = plt.figure(figsize=(6,6))\n",
    "jp = sns.jointplot(data=spz.paramsTable, x='x1', y='c', kind='kde')\n",
    "jp.fig.set_figheight(6)\n",
    "jp.fig.set_figwidth(6)"
   ]
  },
  {
   "cell_type": "code",
   "execution_count": null,
   "metadata": {},
   "outputs": [],
   "source": []
  }
 ],
 "metadata": {
  "kernelspec": {
   "display_name": "Python 3",
   "language": "python",
   "name": "python3"
  },
  "language_info": {
   "codemirror_mode": {
    "name": "ipython",
    "version": 3
   },
   "file_extension": ".py",
   "mimetype": "text/x-python",
   "name": "python",
   "nbconvert_exporter": "python",
   "pygments_lexer": "ipython3",
   "version": "3.7.1"
  }
 },
 "nbformat": 4,
 "nbformat_minor": 2
}
