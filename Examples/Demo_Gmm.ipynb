{
 "cells": [
  {
   "cell_type": "code",
   "execution_count": 1,
   "metadata": {},
   "outputs": [],
   "source": [
    "%load_ext autoreload\n",
    "%autoreload 2"
   ]
  },
  {
   "cell_type": "code",
   "execution_count": 2,
   "metadata": {},
   "outputs": [],
   "source": [
    "import numpy as np\n",
    "%matplotlib inline\n",
    "import matplotlib.pyplot as plt\n",
    "import seaborn as sns\n",
    "sns.set_style('whitegrid')"
   ]
  },
  {
   "cell_type": "code",
   "execution_count": 3,
   "metadata": {},
   "outputs": [],
   "source": [
    "import sncosmo\n",
    "import tdaspop\n",
    "import snpop"
   ]
  },
  {
   "cell_type": "code",
   "execution_count": 4,
   "metadata": {},
   "outputs": [],
   "source": [
    "from snpop import SimpleSALTPopulation, GMM_SALTPopulation"
   ]
  },
  {
   "cell_type": "code",
   "execution_count": 5,
   "metadata": {},
   "outputs": [],
   "source": [
    "from collections import OrderedDict"
   ]
  },
  {
   "cell_type": "code",
   "execution_count": 6,
   "metadata": {},
   "outputs": [
    {
     "name": "stdout",
     "output_type": "stream",
     "text": [
      "2.0.1\n",
      "0.1.6dev1\n",
      "0.1.6dev3\n",
      "/Users/rbiswas/soft/mypython3/lib/python3.7/site-packages/snpop-0.1.6.dev3-py3.7.egg/snpop/__init__.py\n"
     ]
    }
   ],
   "source": [
    "print(sncosmo.__version__)\n",
    "print(tdaspop.__version__)\n",
    "print(snpop.__version__)\n",
    "print(snpop.__file__)"
   ]
  },
  {
   "cell_type": "markdown",
   "metadata": {},
   "source": [
    "# GMM SALT Distributions"
   ]
  },
  {
   "cell_type": "markdown",
   "metadata": {},
   "source": [
    "The SALT model used for SNIa has the following parameters for each SNIa :\n",
    "```x0, x1, c, z, t0 ```. `t0` is the time of the peak in B band, and this is expected to be uniformly distributed in time. The remaining parameters are from a population distribution, which was trained on the SNLS data by David Rubin. The result is parametrized in terms of a distribution of ```x1, c, mBB``` where `mBB` is an auxillary parameter, related to `mB` the `BessellB` band peak magnitude by a `H0=70` cosmology distance. The model here adds an intrinsic dispersion in the luminosity."
   ]
  },
  {
   "cell_type": "markdown",
   "metadata": {},
   "source": [
    "As, with `SimpleSALTPopulation`, there are two ways to use `GMM_SALTPopulation`:\n",
    "1. Use it with a supplied sample of SN redshifts.\n",
    "2. Supply it with the area of the sky, the duration of the survey, and the redshift bounds, and it will use a powerlaw rate for SN to obtain a redshift sample, and run through with the previous case. \n",
    "\n",
    "To start with we describe the first case"
   ]
  },
  {
   "cell_type": "markdown",
   "metadata": {},
   "source": [
    "### `GMM_SALTPopulation`"
   ]
  },
  {
   "cell_type": "markdown",
   "metadata": {},
   "source": [
    "obtain a set of samples for the redshift"
   ]
  },
  {
   "cell_type": "code",
   "execution_count": 7,
   "metadata": {},
   "outputs": [
    {
     "name": "stdout",
     "output_type": "stream",
     "text": [
      "[0.53417863 0.21723113 0.06622579 0.58722058 0.7421798  0.95455505\n",
      " 0.0856527  0.29412917 0.08914384 0.89084207]\n"
     ]
    }
   ],
   "source": [
    "zSamples = np.random.uniform(0, 1.0, size=10)\n",
    "print(zSamples)"
   ]
  },
  {
   "cell_type": "markdown",
   "metadata": {},
   "source": [
    "Instantiate the object"
   ]
  },
  {
   "cell_type": "code",
   "execution_count": 8,
   "metadata": {},
   "outputs": [],
   "source": [
    "gp = GMM_SALTPopulation(zSamples, rng=np.random.RandomState(1))"
   ]
  },
  {
   "cell_type": "code",
   "execution_count": 9,
   "metadata": {},
   "outputs": [
    {
     "data": {
      "text/plain": [
       "array([0, 1, 2, 3, 4, 5, 6, 7, 8, 9])"
      ]
     },
     "execution_count": 9,
     "metadata": {},
     "output_type": "execute_result"
    }
   ],
   "source": [
    "gp.idxvalues"
   ]
  },
  {
   "cell_type": "code",
   "execution_count": 10,
   "metadata": {},
   "outputs": [
    {
     "data": {
      "text/plain": [
       "True"
      ]
     },
     "execution_count": 10,
     "metadata": {},
     "output_type": "execute_result"
    }
   ],
   "source": [
    "all(gp.zSamples == zSamples)"
   ]
  },
  {
   "cell_type": "code",
   "execution_count": 11,
   "metadata": {},
   "outputs": [
    {
     "data": {
      "text/plain": [
       "FlatLambdaCDM(name=\"Planck15\", H0=67.7 km / (Mpc s), Om0=0.307, Tcmb0=2.725 K, Neff=3.05, m_nu=[0.   0.   0.06] eV, Ob0=0.0486)"
      ]
     },
     "execution_count": 11,
     "metadata": {},
     "output_type": "execute_result"
    }
   ],
   "source": [
    "gp.cosmo"
   ]
  },
  {
   "cell_type": "code",
   "execution_count": 12,
   "metadata": {},
   "outputs": [
    {
     "data": {
      "text/html": [
       "<div>\n",
       "<style scoped>\n",
       "    .dataframe tbody tr th:only-of-type {\n",
       "        vertical-align: middle;\n",
       "    }\n",
       "\n",
       "    .dataframe tbody tr th {\n",
       "        vertical-align: top;\n",
       "    }\n",
       "\n",
       "    .dataframe thead th {\n",
       "        text-align: right;\n",
       "    }\n",
       "</style>\n",
       "<table border=\"1\" class=\"dataframe\">\n",
       "  <thead>\n",
       "    <tr style=\"text-align: right;\">\n",
       "      <th></th>\n",
       "      <th>x0</th>\n",
       "      <th>mB</th>\n",
       "      <th>x1</th>\n",
       "      <th>c</th>\n",
       "      <th>mBB</th>\n",
       "      <th>MnoDisp</th>\n",
       "      <th>Mabs</th>\n",
       "      <th>t0</th>\n",
       "      <th>z</th>\n",
       "      <th>model</th>\n",
       "    </tr>\n",
       "    <tr>\n",
       "      <th>idx</th>\n",
       "      <th></th>\n",
       "      <th></th>\n",
       "      <th></th>\n",
       "      <th></th>\n",
       "      <th></th>\n",
       "      <th></th>\n",
       "      <th></th>\n",
       "      <th></th>\n",
       "      <th></th>\n",
       "      <th></th>\n",
       "    </tr>\n",
       "  </thead>\n",
       "  <tbody>\n",
       "    <tr>\n",
       "      <td>0</td>\n",
       "      <td>0.000005</td>\n",
       "      <td>23.795051</td>\n",
       "      <td>-1.407174</td>\n",
       "      <td>0.005453</td>\n",
       "      <td>23.533329</td>\n",
       "      <td>-18.964603</td>\n",
       "      <td>-18.702881</td>\n",
       "      <td>61102.130317</td>\n",
       "      <td>0.534179</td>\n",
       "      <td>SALT2</td>\n",
       "    </tr>\n",
       "    <tr>\n",
       "      <td>1</td>\n",
       "      <td>0.000065</td>\n",
       "      <td>20.974513</td>\n",
       "      <td>0.795911</td>\n",
       "      <td>0.019769</td>\n",
       "      <td>21.088694</td>\n",
       "      <td>-19.136781</td>\n",
       "      <td>-19.250962</td>\n",
       "      <td>62209.184401</td>\n",
       "      <td>0.217231</td>\n",
       "      <td>SALT2</td>\n",
       "    </tr>\n",
       "    <tr>\n",
       "      <td>2</td>\n",
       "      <td>0.001123</td>\n",
       "      <td>17.874416</td>\n",
       "      <td>0.928076</td>\n",
       "      <td>-0.123194</td>\n",
       "      <td>17.826560</td>\n",
       "      <td>-19.613694</td>\n",
       "      <td>-19.565838</td>\n",
       "      <td>59580.417468</td>\n",
       "      <td>0.066226</td>\n",
       "      <td>SALT2</td>\n",
       "    </tr>\n",
       "    <tr>\n",
       "      <td>3</td>\n",
       "      <td>0.000008</td>\n",
       "      <td>23.240998</td>\n",
       "      <td>-0.461267</td>\n",
       "      <td>-0.110833</td>\n",
       "      <td>23.278403</td>\n",
       "      <td>-19.467396</td>\n",
       "      <td>-19.504801</td>\n",
       "      <td>60683.513890</td>\n",
       "      <td>0.587221</td>\n",
       "      <td>SALT2</td>\n",
       "    </tr>\n",
       "    <tr>\n",
       "      <td>4</td>\n",
       "      <td>0.000002</td>\n",
       "      <td>24.516101</td>\n",
       "      <td>0.100458</td>\n",
       "      <td>0.037719</td>\n",
       "      <td>24.296785</td>\n",
       "      <td>-19.067642</td>\n",
       "      <td>-18.848326</td>\n",
       "      <td>60115.659001</td>\n",
       "      <td>0.742180</td>\n",
       "      <td>SALT2</td>\n",
       "    </tr>\n",
       "    <tr>\n",
       "      <td>5</td>\n",
       "      <td>0.000002</td>\n",
       "      <td>24.547334</td>\n",
       "      <td>0.415928</td>\n",
       "      <td>-0.009678</td>\n",
       "      <td>24.856355</td>\n",
       "      <td>-19.179117</td>\n",
       "      <td>-19.488138</td>\n",
       "      <td>59917.035871</td>\n",
       "      <td>0.954555</td>\n",
       "      <td>SALT2</td>\n",
       "    </tr>\n",
       "    <tr>\n",
       "      <td>6</td>\n",
       "      <td>0.000481</td>\n",
       "      <td>18.796376</td>\n",
       "      <td>0.977850</td>\n",
       "      <td>0.039244</td>\n",
       "      <td>18.844738</td>\n",
       "      <td>-19.183077</td>\n",
       "      <td>-19.231440</td>\n",
       "      <td>60259.849772</td>\n",
       "      <td>0.085653</td>\n",
       "      <td>SALT2</td>\n",
       "    </tr>\n",
       "    <tr>\n",
       "      <td>7</td>\n",
       "      <td>0.000047</td>\n",
       "      <td>21.327213</td>\n",
       "      <td>1.472832</td>\n",
       "      <td>-0.065890</td>\n",
       "      <td>21.384821</td>\n",
       "      <td>-19.588261</td>\n",
       "      <td>-19.645869</td>\n",
       "      <td>60841.296654</td>\n",
       "      <td>0.294129</td>\n",
       "      <td>SALT2</td>\n",
       "    </tr>\n",
       "    <tr>\n",
       "      <td>8</td>\n",
       "      <td>0.000527</td>\n",
       "      <td>18.695127</td>\n",
       "      <td>1.710394</td>\n",
       "      <td>-0.057720</td>\n",
       "      <td>18.525062</td>\n",
       "      <td>-19.594630</td>\n",
       "      <td>-19.424564</td>\n",
       "      <td>61028.201281</td>\n",
       "      <td>0.089144</td>\n",
       "      <td>SALT2</td>\n",
       "    </tr>\n",
       "    <tr>\n",
       "      <td>9</td>\n",
       "      <td>0.000003</td>\n",
       "      <td>24.147983</td>\n",
       "      <td>0.483939</td>\n",
       "      <td>-0.092434</td>\n",
       "      <td>24.312967</td>\n",
       "      <td>-19.537853</td>\n",
       "      <td>-19.702837</td>\n",
       "      <td>61546.681079</td>\n",
       "      <td>0.890842</td>\n",
       "      <td>SALT2</td>\n",
       "    </tr>\n",
       "  </tbody>\n",
       "</table>\n",
       "</div>"
      ],
      "text/plain": [
       "           x0         mB        x1         c        mBB    MnoDisp       Mabs  \\\n",
       "idx                                                                             \n",
       "0    0.000005  23.795051 -1.407174  0.005453  23.533329 -18.964603 -18.702881   \n",
       "1    0.000065  20.974513  0.795911  0.019769  21.088694 -19.136781 -19.250962   \n",
       "2    0.001123  17.874416  0.928076 -0.123194  17.826560 -19.613694 -19.565838   \n",
       "3    0.000008  23.240998 -0.461267 -0.110833  23.278403 -19.467396 -19.504801   \n",
       "4    0.000002  24.516101  0.100458  0.037719  24.296785 -19.067642 -18.848326   \n",
       "5    0.000002  24.547334  0.415928 -0.009678  24.856355 -19.179117 -19.488138   \n",
       "6    0.000481  18.796376  0.977850  0.039244  18.844738 -19.183077 -19.231440   \n",
       "7    0.000047  21.327213  1.472832 -0.065890  21.384821 -19.588261 -19.645869   \n",
       "8    0.000527  18.695127  1.710394 -0.057720  18.525062 -19.594630 -19.424564   \n",
       "9    0.000003  24.147983  0.483939 -0.092434  24.312967 -19.537853 -19.702837   \n",
       "\n",
       "               t0         z  model  \n",
       "idx                                 \n",
       "0    61102.130317  0.534179  SALT2  \n",
       "1    62209.184401  0.217231  SALT2  \n",
       "2    59580.417468  0.066226  SALT2  \n",
       "3    60683.513890  0.587221  SALT2  \n",
       "4    60115.659001  0.742180  SALT2  \n",
       "5    59917.035871  0.954555  SALT2  \n",
       "6    60259.849772  0.085653  SALT2  \n",
       "7    60841.296654  0.294129  SALT2  \n",
       "8    61028.201281  0.089144  SALT2  \n",
       "9    61546.681079  0.890842  SALT2  "
      ]
     },
     "execution_count": 12,
     "metadata": {},
     "output_type": "execute_result"
    }
   ],
   "source": [
    "gp.paramsTable"
   ]
  },
  {
   "cell_type": "code",
   "execution_count": 13,
   "metadata": {},
   "outputs": [
    {
     "data": {
      "text/plain": [
       "OrderedDict([('x0', 8.02262739752989e-06),\n",
       "             ('mB', 23.240997888634087),\n",
       "             ('x1', -0.4612667739312083),\n",
       "             ('c', -0.1108331070848183),\n",
       "             ('mBB', 23.2784034449557),\n",
       "             ('MnoDisp', -19.46739577794571),\n",
       "             ('Mabs', -19.504801334267324),\n",
       "             ('t0', 60683.51389010622),\n",
       "             ('z', 0.5872205770976436),\n",
       "             ('model', 'SALT2')])"
      ]
     },
     "execution_count": 13,
     "metadata": {},
     "output_type": "execute_result"
    }
   ],
   "source": [
    "gp.modelParams(3)"
   ]
  },
  {
   "cell_type": "markdown",
   "metadata": {},
   "source": [
    "### 2. Generate From the skyArea, redshift bounds and survey Duration\n",
    "\n",
    "This uses the `fromSkyArea` method\n",
    "\n",
    "In general, we will not have a redshift distribution or a redshift sample to use. In this case, we prefer to use \n",
    "the `fromSkyArea` method which instead obtains these samples from using the fieldArea, zmin and zmax. Right now, we also need `numzBins` because of the binned implementation which we will later get rid of."
   ]
  },
  {
   "cell_type": "code",
   "execution_count": 14,
   "metadata": {},
   "outputs": [],
   "source": [
    "gpz = GMM_SALTPopulation.fromSkyArea(rng=np.random.RandomState(1), fieldArea=0.5)"
   ]
  },
  {
   "cell_type": "code",
   "execution_count": 15,
   "metadata": {},
   "outputs": [
    {
     "data": {
      "text/plain": [
       "1351"
      ]
     },
     "execution_count": 15,
     "metadata": {},
     "output_type": "execute_result"
    }
   ],
   "source": [
    "gpz.zSamples.size"
   ]
  },
  {
   "cell_type": "code",
   "execution_count": 16,
   "metadata": {},
   "outputs": [
    {
     "data": {
      "text/plain": [
       "1351"
      ]
     },
     "execution_count": 16,
     "metadata": {},
     "output_type": "execute_result"
    }
   ],
   "source": [
    "gpz.numSources"
   ]
  },
  {
   "cell_type": "code",
   "execution_count": 17,
   "metadata": {},
   "outputs": [
    {
     "data": {
      "text/html": [
       "<div>\n",
       "<style scoped>\n",
       "    .dataframe tbody tr th:only-of-type {\n",
       "        vertical-align: middle;\n",
       "    }\n",
       "\n",
       "    .dataframe tbody tr th {\n",
       "        vertical-align: top;\n",
       "    }\n",
       "\n",
       "    .dataframe thead th {\n",
       "        text-align: right;\n",
       "    }\n",
       "</style>\n",
       "<table border=\"1\" class=\"dataframe\">\n",
       "  <thead>\n",
       "    <tr style=\"text-align: right;\">\n",
       "      <th></th>\n",
       "      <th>x0</th>\n",
       "      <th>mB</th>\n",
       "      <th>x1</th>\n",
       "      <th>c</th>\n",
       "      <th>mBB</th>\n",
       "      <th>MnoDisp</th>\n",
       "      <th>Mabs</th>\n",
       "      <th>t0</th>\n",
       "      <th>z</th>\n",
       "      <th>model</th>\n",
       "    </tr>\n",
       "    <tr>\n",
       "      <th>idx</th>\n",
       "      <th></th>\n",
       "      <th></th>\n",
       "      <th></th>\n",
       "      <th></th>\n",
       "      <th></th>\n",
       "      <th></th>\n",
       "      <th></th>\n",
       "      <th></th>\n",
       "      <th></th>\n",
       "      <th></th>\n",
       "    </tr>\n",
       "  </thead>\n",
       "  <tbody>\n",
       "    <tr>\n",
       "      <td>0</td>\n",
       "      <td>0.000187</td>\n",
       "      <td>19.824381</td>\n",
       "      <td>0.119824</td>\n",
       "      <td>-0.023060</td>\n",
       "      <td>19.712730</td>\n",
       "      <td>-19.265421</td>\n",
       "      <td>-19.153770</td>\n",
       "      <td>62394.169557</td>\n",
       "      <td>0.128958</td>\n",
       "      <td>SALT2</td>\n",
       "    </tr>\n",
       "    <tr>\n",
       "      <td>1</td>\n",
       "      <td>0.000071</td>\n",
       "      <td>20.872119</td>\n",
       "      <td>1.286653</td>\n",
       "      <td>-0.063560</td>\n",
       "      <td>20.703653</td>\n",
       "      <td>-19.555282</td>\n",
       "      <td>-19.386816</td>\n",
       "      <td>60783.533039</td>\n",
       "      <td>0.220232</td>\n",
       "      <td>SALT2</td>\n",
       "    </tr>\n",
       "    <tr>\n",
       "      <td>2</td>\n",
       "      <td>0.000039</td>\n",
       "      <td>21.521249</td>\n",
       "      <td>0.212062</td>\n",
       "      <td>0.167097</td>\n",
       "      <td>21.386896</td>\n",
       "      <td>-18.667824</td>\n",
       "      <td>-18.533470</td>\n",
       "      <td>62487.438845</td>\n",
       "      <td>0.202496</td>\n",
       "      <td>SALT2</td>\n",
       "    </tr>\n",
       "    <tr>\n",
       "      <td>3</td>\n",
       "      <td>0.000126</td>\n",
       "      <td>20.253594</td>\n",
       "      <td>0.588571</td>\n",
       "      <td>-0.005698</td>\n",
       "      <td>20.415397</td>\n",
       "      <td>-19.190099</td>\n",
       "      <td>-19.351902</td>\n",
       "      <td>60764.929876</td>\n",
       "      <td>0.168033</td>\n",
       "      <td>SALT2</td>\n",
       "    </tr>\n",
       "    <tr>\n",
       "      <td>4</td>\n",
       "      <td>0.000037</td>\n",
       "      <td>21.593357</td>\n",
       "      <td>-0.015669</td>\n",
       "      <td>-0.042340</td>\n",
       "      <td>21.534681</td>\n",
       "      <td>-19.308702</td>\n",
       "      <td>-19.250025</td>\n",
       "      <td>60703.770920</td>\n",
       "      <td>0.279210</td>\n",
       "      <td>SALT2</td>\n",
       "    </tr>\n",
       "  </tbody>\n",
       "</table>\n",
       "</div>"
      ],
      "text/plain": [
       "           x0         mB        x1         c        mBB    MnoDisp       Mabs  \\\n",
       "idx                                                                             \n",
       "0    0.000187  19.824381  0.119824 -0.023060  19.712730 -19.265421 -19.153770   \n",
       "1    0.000071  20.872119  1.286653 -0.063560  20.703653 -19.555282 -19.386816   \n",
       "2    0.000039  21.521249  0.212062  0.167097  21.386896 -18.667824 -18.533470   \n",
       "3    0.000126  20.253594  0.588571 -0.005698  20.415397 -19.190099 -19.351902   \n",
       "4    0.000037  21.593357 -0.015669 -0.042340  21.534681 -19.308702 -19.250025   \n",
       "\n",
       "               t0         z  model  \n",
       "idx                                 \n",
       "0    62394.169557  0.128958  SALT2  \n",
       "1    60783.533039  0.220232  SALT2  \n",
       "2    62487.438845  0.202496  SALT2  \n",
       "3    60764.929876  0.168033  SALT2  \n",
       "4    60703.770920  0.279210  SALT2  "
      ]
     },
     "execution_count": 17,
     "metadata": {},
     "output_type": "execute_result"
    }
   ],
   "source": [
    "gpz.paramsTable.head()"
   ]
  },
  {
   "cell_type": "markdown",
   "metadata": {},
   "source": [
    "## Characterizations of the Distribution"
   ]
  },
  {
   "cell_type": "markdown",
   "metadata": {},
   "source": [
    "## Form of the internal dispersion"
   ]
  },
  {
   "cell_type": "code",
   "execution_count": 18,
   "metadata": {},
   "outputs": [],
   "source": [
    "import scipy"
   ]
  },
  {
   "cell_type": "code",
   "execution_count": 19,
   "metadata": {},
   "outputs": [
    {
     "data": {
      "text/plain": [
       "<matplotlib.axes._subplots.AxesSubplot at 0x1a190637b8>"
      ]
     },
     "execution_count": 19,
     "metadata": {},
     "output_type": "execute_result"
    },
    {
     "data": {
      "image/png": "[encoded data removed]",
      "text/plain": [
       "<Figure size 432x288 with 1 Axes>"
      ]
     },
     "metadata": {
      "needs_background": "light"
     },
     "output_type": "display_data"
    }
   ],
   "source": [
    "fig, ax = plt.subplots()\n",
    "sns.distplot(gpz.paramsTable.Mabs - gpz.paramsTable.MnoDisp, hist=False, fit=scipy.stats.norm)"
   ]
  },
  {
   "cell_type": "markdown",
   "metadata": {},
   "source": [
    "## Checks on the Hubble Diagram"
   ]
  },
  {
   "cell_type": "code",
   "execution_count": 20,
   "metadata": {},
   "outputs": [],
   "source": [
    "from astropy.cosmology import Planck15"
   ]
  },
  {
   "cell_type": "code",
   "execution_count": 21,
   "metadata": {},
   "outputs": [
    {
     "data": {
      "text/plain": [
       "[<matplotlib.lines.Line2D at 0x1a19519fd0>]"
      ]
     },
     "execution_count": 21,
     "metadata": {},
     "output_type": "execute_result"
    },
    {
     "data": {
      "image/png": "[encoded data removed]",
      "text/plain": [
       "<Figure size 432x288 with 4 Axes>"
      ]
     },
     "metadata": {
      "needs_background": "light"
     },
     "output_type": "display_data"
    }
   ],
   "source": [
    "fig, ax = plt.subplots(1, 4)\n",
    "ax[0].plot(gpz.paramsTable.z, gpz.paramsTable.mB, '.')\n",
    "ax[0].plot(gpz.paramsTable.z, gpz.paramsTable.Mabs, '.')\n",
    "ax[1].plot(gpz.paramsTable.z, gpz.paramsTable.mB - gpz.paramsTable.Mabs, color='r')\n",
    "ax[1].plot(gpz.paramsTable.z, Planck15.distmod(gpz.paramsTable.z).value, color='k', lw=2)\n",
    "ax[2].plot(gpz.paramsTable.z, gpz.paramsTable.mB - gpz.paramsTable.Mabs - Planck15.distmod(gpz.paramsTable.z).value, 'r.')\n",
    "ax[3].plot(gpz.paramsTable.z, gpz.paramsTable.mB - gpz.paramsTable.MnoDisp - Planck15.distmod(gpz.paramsTable.z).value, 'k.')"
   ]
  },
  {
   "cell_type": "markdown",
   "metadata": {},
   "source": [
    "## Distribution of x1 and c"
   ]
  },
  {
   "cell_type": "code",
   "execution_count": 22,
   "metadata": {},
   "outputs": [
    {
     "data": {
      "image/png": "[encoded data removed]",
      "text/plain": [
       "<Figure size 432x432 with 3 Axes>"
      ]
     },
     "metadata": {
      "needs_background": "light"
     },
     "output_type": "display_data"
    }
   ],
   "source": [
    "#fig = plt.figure(figsize=(6,6))\n",
    "jp = sns.jointplot(data=gpz.paramsTable, x='x1', y='c', kind='kde')\n",
    "jp.fig.set_figheight(6)\n",
    "jp.fig.set_figwidth(6)"
   ]
  },
  {
   "cell_type": "code",
   "execution_count": 23,
   "metadata": {},
   "outputs": [
    {
     "data": {
      "text/plain": [
       "0.07169495370742768"
      ]
     },
     "execution_count": 23,
     "metadata": {},
     "output_type": "execute_result"
    }
   ],
   "source": [
    "gpz.paramsTable.c.std()"
   ]
  },
  {
   "cell_type": "code",
   "execution_count": 24,
   "metadata": {},
   "outputs": [
    {
     "data": {
      "text/plain": [
       "0.9466470033355492"
      ]
     },
     "execution_count": 24,
     "metadata": {},
     "output_type": "execute_result"
    }
   ],
   "source": [
    "gpz.paramsTable.x1.std()"
   ]
  },
  {
   "cell_type": "code",
   "execution_count": null,
   "metadata": {},
   "outputs": [],
   "source": []
  }
 ],
 "metadata": {
  "kernelspec": {
   "display_name": "Python 3",
   "language": "python",
   "name": "python3"
  },
  "language_info": {
   "codemirror_mode": {
    "name": "ipython",
    "version": 3
   },
   "file_extension": ".py",
   "mimetype": "text/x-python",
   "name": "python",
   "nbconvert_exporter": "python",
   "pygments_lexer": "ipython3",
   "version": "3.7.1"
  }
 },
 "nbformat": 4,
 "nbformat_minor": 2
}
